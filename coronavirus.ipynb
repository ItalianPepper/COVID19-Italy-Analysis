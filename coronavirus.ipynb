{
  "nbformat": 4,
  "nbformat_minor": 0,
  "metadata": {
    "colab": {
      "name": "coronavirus.ipynb",
      "provenance": [],
      "collapsed_sections": [],
      "authorship_tag": "ABX9TyNUSywozefbBEMy5q2j6Rnr",
      "include_colab_link": true
    },
    "kernelspec": {
      "name": "python3",
      "display_name": "Python 3"
    }
  },
  "cells": [
    {
      "cell_type": "markdown",
      "metadata": {
        "id": "view-in-github",
        "colab_type": "text"
      },
      "source": [
        "<a href=\"https://colab.research.google.com/github/ItalianPepper/coronavirus_ita_svr/blob/master/coronavirus.ipynb\" target=\"_parent\"><img src=\"https://colab.research.google.com/assets/colab-badge.svg\" alt=\"Open In Colab\"/></a>"
      ]
    },
    {
      "cell_type": "code",
      "metadata": {
        "id": "pAPn2dEF62Wn",
        "colab_type": "code",
        "outputId": "5c8a5039-dbc7-4018-ae5f-c3fce25881e9",
        "colab": {
          "base_uri": "https://localhost:8080/",
          "height": 499
        }
      },
      "source": [
        "import urllib\n",
        "import pandas as pd\n",
        "import matplotlib.pyplot as plt\n",
        "from sklearn.svm import SVR, LinearSVR\n",
        "import numpy as np\n",
        "import os.path\n",
        "\n",
        "# Download .csv file from official profile of Protezione Civile.\n",
        "raw_git_url = \"https://raw.githubusercontent.com/pcm-dpc/COVID-19/master/dati-andamento-nazionale/dpc-covid19-ita-andamento-nazionale.csv\"\n",
        "csv_name = \"dpc-covid19-ita-andamento-nazionale.csv\"\n",
        "urllib.request.urlretrieve(raw_git_url, csv_name)\n",
        "\n",
        "\n",
        "df_ita_covid = pd.read_csv(csv_name, sep=\",\", header=0)\n",
        "tot_casi_col = df_ita_covid[\"totale_casi\"].tolist()\n",
        "dates_col = df_ita_covid[\"data\"].tolist()\n",
        "\n",
        "print(\"Tot dataset:\", len(tot_casi_col))\n",
        "\n",
        "# Plotting time series.\n",
        "plt.plot_date(dates_col, tot_casi_col, xdate=True)\n",
        "plt.xticks(rotation=90)\n",
        "plt.show()\n",
        "plt.close()\n",
        "\n",
        "look_back = 7\n",
        "\n",
        "x_mod = []\n",
        "y_mod = []\n",
        "\n",
        "for i in range(look_back, len(tot_casi_col)):\n",
        "  \n",
        "  # Example look_back = 3:\n",
        "  # -> i = 3:\n",
        "  # x = {v[0], v[1], v[2]}\n",
        "  # y = {v[3]}\n",
        "  #\n",
        "  # -> i = 4:\n",
        "  # x = {v[1], v[2], v[3]}\n",
        "  # y = {v[4]}\n",
        "  # ecc...\n",
        "\n",
        "  x_sample = tot_casi_col[i-look_back:i]\n",
        "  \n",
        "  y_sample = tot_casi_col[i]\n",
        "  \n",
        "  x_mod.append(x_sample)\n",
        "  y_mod.append(y_sample)\n",
        "\n",
        "# That's the formula for the next day prediction:\n",
        "# X for next predictions is equal to last element of train set less the first\n",
        "# element of that vector. Then adding the last value of y.\n",
        "x_tmp = x_mod[len(x_mod)-1]\n",
        "y_tmp = y_mod[len(y_mod)-1]\n",
        "last_x = [x_tmp[i] for i in range(1, look_back)]\n",
        "last_x.append(y_tmp)\n",
        "\n",
        "\n",
        "# Transforming in np.array\n",
        "last_x_arr = np.array(last_x).reshape(1, look_back)\n",
        "x = np.array(x_mod).reshape(-1, look_back)\n",
        "y = np.array(y_mod)\n",
        "\n",
        "svr = LinearSVR(max_iter=10000)\n",
        "svr.fit(x, y)\n",
        "\n",
        "print(\"Ultimo aggiornamento del \", dates_col[len(dates_col)-1],\n",
        "      \", numero di persone contagiate:\",tot_casi_col[len(tot_casi_col)-1])\n",
        "\n",
        "\n",
        "prediction = svr.predict(last_x_arr)\n",
        "round_prediction = int(prediction)\n",
        "\n",
        "print(\"Previsioni per il prossimo giorno:\", round_prediction)\n",
        "\n",
        "# Removing the first element from last_x and\n",
        "# adding at end the last prediction.\n",
        "# to create the next 2nd prediction (the day after tomorrow)\n",
        "\n",
        "sec_day_after = [last_x[i] for i in range(1, len(last_x))]\n",
        "sec_day_after.append(round_prediction)\n",
        "\n",
        "sec_day_after_arr = np.array(sec_day_after).reshape(1, look_back)\n",
        "prediction_sec = svr.predict(sec_day_after_arr)\n",
        "round_prediction_sec = int(prediction_sec)\n",
        "\n",
        "print(\"Previsioni per dopodomani:\", round_prediction_sec)\n",
        "\n",
        "thr_day_after = [sec_day_after[i] for i in range(1, len(sec_day_after))]\n",
        "thr_day_after.append(round_prediction_sec)\n",
        "\n",
        "thr_day_after_arr = np.array(thr_day_after).reshape(1, look_back)\n",
        "prediction_thr = svr.predict(thr_day_after_arr)\n",
        "round_prediction_thr = int(prediction_thr)\n",
        "\n",
        "print(\"Previsioni per 3 giorni da oggi:\", round_prediction_thr)"
      ],
      "execution_count": 211,
      "outputs": [
        {
          "output_type": "stream",
          "text": [
            "Tot dataset: 15\n"
          ],
          "name": "stdout"
        },
        {
          "output_type": "display_data",
          "data": {
            "image/png": "[encoded data removed]",
            "text/plain": [
              "<Figure size 432x288 with 1 Axes>"
            ]
          },
          "metadata": {
            "tags": []
          }
        },
        {
          "output_type": "stream",
          "text": [
            "Ultimo aggiornamento del  2020-03-09 18:00:00 , numero di persone contagiate: 9172\n",
            "Previsioni per il prossimo giorno: 11482\n",
            "Previsioni per dopodomani: 14462\n",
            "Previsioni per 3 giorni da oggi: 18002\n"
          ],
          "name": "stdout"
        },
        {
          "output_type": "stream",
          "text": [
            "/usr/local/lib/python3.6/dist-packages/sklearn/svm/_base.py:947: ConvergenceWarning: Liblinear failed to converge, increase the number of iterations.\n",
            "  \"the number of iterations.\", ConvergenceWarning)\n"
          ],
          "name": "stderr"
        }
      ]
    }
  ]
}