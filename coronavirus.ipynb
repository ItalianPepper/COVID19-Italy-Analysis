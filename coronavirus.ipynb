{
  "nbformat": 4,
  "nbformat_minor": 0,
  "metadata": {
    "colab": {
      "name": "coronavirus.ipynb",
      "provenance": [],
      "collapsed_sections": [],
      "authorship_tag": "ABX9TyPPEC3KJb28BAfZWaKLJLfJ",
      "include_colab_link": true
    },
    "kernelspec": {
      "name": "python3",
      "display_name": "Python 3"
    }
  },
  "cells": [
    {
      "cell_type": "markdown",
      "metadata": {
        "id": "view-in-github",
        "colab_type": "text"
      },
      "source": [
        "<a href=\"https://colab.research.google.com/github/ItalianPepper/coronavirus_ita_svr/blob/master/coronavirus.ipynb\" target=\"_parent\"><img src=\"https://colab.research.google.com/assets/colab-badge.svg\" alt=\"Open In Colab\"/></a>"
      ]
    },
    {
      "cell_type": "code",
      "metadata": {
        "id": "pAPn2dEF62Wn",
        "colab_type": "code",
        "outputId": "dc1b37bb-721c-419d-db65-fd96af8ce0a9",
        "colab": {
          "base_uri": "https://localhost:8080/",
          "height": 1000
        }
      },
      "source": [
        "import urllib\n",
        "import pandas as pd\n",
        "import matplotlib.pyplot as plt\n",
        "from sklearn.svm import LinearSVR\n",
        "import numpy as np\n",
        "import os.path\n",
        "\n",
        "# Download .csv file from official profile of Protezione Civile.\n",
        "raw_git_url = \"https://raw.githubusercontent.com/pcm-dpc/COVID-19/master/dati-andamento-nazionale/dpc-covid19-ita-andamento-nazionale.csv\"\n",
        "csv_name = \"dpc-covid19-ita-andamento-nazionale.csv\"\n",
        "urllib.request.urlretrieve(raw_git_url, csv_name)\n",
        "\n",
        "\n",
        "df_ita_covid = pd.read_csv(csv_name, sep=\",\", header=0)\n",
        "tot_casi_col = df_ita_covid[\"totale_casi\"].tolist()\n",
        "tot_healed_col = df_ita_covid[\"dimessi_guariti\"].tolist()\n",
        "tot_deaths_col = df_ita_covid[\"deceduti\"].tolist()\n",
        "dates_col = df_ita_covid[\"data\"].tolist()\n",
        "\n",
        "last_date = dates_col[len(dates_col)-1]\n",
        "\n",
        "# Plotting time series total cases\n",
        "plt.plot_date(dates_col, tot_casi_col, xdate=True)\n",
        "plt.title(\"Casi Totali\")\n",
        "plt.xticks(rotation=90)\n",
        "plt.show()\n",
        "plt.close()\n",
        "\n",
        "# Plotting time series total healed\n",
        "plt.plot_date(dates_col, tot_healed_col, xdate=True)\n",
        "plt.title(\"Guariti\")\n",
        "plt.xticks(rotation=90)\n",
        "plt.show()\n",
        "plt.close()\n",
        "\n",
        "#Plotting time series total deaths\n",
        "plt.plot_date(dates_col, tot_deaths_col, xdate=True)\n",
        "plt.title(\"Decessi\")\n",
        "plt.xticks(rotation=90)\n",
        "plt.show()\n",
        "plt.close()\n",
        "\n",
        "\n",
        "def run_linear_svr(col_selected, last_date, title, look_back=1):\n",
        "\n",
        "  x_mod = []\n",
        "  y_mod = []\n",
        "\n",
        "  for i in range(look_back, len(col_selected)):\n",
        "    \n",
        "    # Example look_back = 3:\n",
        "    # -> i = 3:\n",
        "    # x = {v[0], v[1], v[2]}\n",
        "    # y = {v[3]}\n",
        "    #\n",
        "    # -> i = 4:\n",
        "    # x = {v[1], v[2], v[3]}\n",
        "    # y = {v[4]}\n",
        "    # ecc...\n",
        "\n",
        "    x_sample = col_selected[i-look_back:i]\n",
        "    \n",
        "    y_sample = col_selected[i]\n",
        "    \n",
        "    x_mod.append(x_sample)\n",
        "    y_mod.append(y_sample)\n",
        "\n",
        "  # That's the formula for the next day prediction:\n",
        "  # X for next predictions is equal to last element of train set less the first\n",
        "  # element of that vector. Then adding the last value of y.\n",
        "  x_tmp = x_mod[len(x_mod)-1]\n",
        "  y_tmp = y_mod[len(y_mod)-1]\n",
        "  last_x = [x_tmp[i] for i in range(1, look_back)]\n",
        "  last_x.append(y_tmp)\n",
        "\n",
        "\n",
        "  # Transforming in np.array\n",
        "  last_x_arr = np.array(last_x).reshape(1, look_back)\n",
        "  x = np.array(x_mod).reshape(-1, look_back)\n",
        "  y = np.array(y_mod)\n",
        "\n",
        "  svr = LinearSVR(max_iter=10000)\n",
        "  svr.fit(x, y)\n",
        "\n",
        "  print(\"---\")\n",
        "  print(title)\n",
        "  \n",
        "  print(\"Ultimo aggiornamento del \", last_date, \n",
        "        \": \",col_selected[len(col_selected)-1])\n",
        "\n",
        "  prediction = svr.predict(last_x_arr)\n",
        "  round_prediction = int(prediction)\n",
        "\n",
        "  print(\"Previsione per domani:\", round_prediction)\n",
        "\n",
        "  # Removing the first element from last_x and\n",
        "  # adding at end the last prediction.\n",
        "  # to create the next 2nd prediction (the day after tomorrow)\n",
        "\n",
        "  sec_day_after = [last_x[i] for i in range(1, len(last_x))]\n",
        "  sec_day_after.append(round_prediction)\n",
        "\n",
        "  sec_day_after_arr = np.array(sec_day_after).reshape(1, look_back)\n",
        "  prediction_sec = svr.predict(sec_day_after_arr)\n",
        "  round_prediction_sec = int(prediction_sec)\n",
        "\n",
        "  print(\"Previsione per dopodomani:\", round_prediction_sec)\n",
        "\n",
        "  thr_day_after = [sec_day_after[i] for i in range(1, len(sec_day_after))]\n",
        "  thr_day_after.append(round_prediction_sec)\n",
        "\n",
        "  thr_day_after_arr = np.array(thr_day_after).reshape(1, look_back)\n",
        "  prediction_thr = svr.predict(thr_day_after_arr)\n",
        "  round_prediction_thr = int(prediction_thr)\n",
        "\n",
        "  print(\"Previsione fra 3 giorni:\", round_prediction_thr)\n",
        "  print(\"---\")\n",
        "\n",
        "\n",
        "print(\"Le previsioni sono soggette ad oscillazioni. Siate responsabili e\"+\n",
        "      \" osservate le normative del governo italiano.\")\n",
        "\n",
        "run_linear_svr(tot_casi_col, last_date, \"Previsioni Contagi\", look_back=7)\n",
        "run_linear_svr(tot_healed_col, last_date, \"Previsioni Guariti\", look_back=7)\n",
        "run_linear_svr(tot_deaths_col, last_date, \"Previsioni Decessi\", look_back=7)"
      ],
      "execution_count": 0,
      "outputs": [
        {
          "output_type": "display_data",
          "data": {
            "image/png": "[encoded data removed]",
            "text/plain": [
              "<Figure size 432x288 with 1 Axes>"
            ]
          },
          "metadata": {
            "tags": []
          }
        },
        {
          "output_type": "display_data",
          "data": {
            "image/png": "[encoded data removed]",
            "text/plain": [
              "<Figure size 432x288 with 1 Axes>"
            ]
          },
          "metadata": {
            "tags": []
          }
        },
        {
          "output_type": "display_data",
          "data": {
            "image/png": "[encoded data removed]",
            "text/plain": [
              "<Figure size 432x288 with 1 Axes>"
            ]
          },
          "metadata": {
            "tags": []
          }
        },
        {
          "output_type": "stream",
          "text": [
            "Le previsioni sono soggette ad oscillazioni. Siate responsabili e osservate le normative del governo italiano.\n",
            "---\n",
            "Previsioni Contagi\n",
            "Ultimo aggiornamento del  2020-03-09 18:00:00 :  9172\n",
            "Previsione per domani: 11475\n",
            "Previsione per dopodomani: 14448\n",
            "Previsione fra 3 giorni: 17975\n",
            "---\n",
            "---\n",
            "Previsioni Guariti\n",
            "Ultimo aggiornamento del  2020-03-09 18:00:00 :  724\n",
            "Previsione per domani: 818\n",
            "Previsione per dopodomani: 1201\n",
            "Previsione fra 3 giorni: 2169\n",
            "---\n",
            "---\n",
            "Previsioni Decessi\n",
            "Ultimo aggiornamento del  2020-03-09 18:00:00 :  463\n",
            "Previsione per domani: 672\n",
            "Previsione per dopodomani: 979\n",
            "Previsione fra 3 giorni: 1182\n",
            "---\n"
          ],
          "name": "stdout"
        },
        {
          "output_type": "stream",
          "text": [
            "/usr/local/lib/python3.6/dist-packages/sklearn/svm/_base.py:947: ConvergenceWarning: Liblinear failed to converge, increase the number of iterations.\n",
            "  \"the number of iterations.\", ConvergenceWarning)\n",
            "/usr/local/lib/python3.6/dist-packages/sklearn/svm/_base.py:947: ConvergenceWarning: Liblinear failed to converge, increase the number of iterations.\n",
            "  \"the number of iterations.\", ConvergenceWarning)\n"
          ],
          "name": "stderr"
        }
      ]
    },
    {
      "cell_type": "markdown",
      "metadata": {
        "id": "a88lsW6sea19",
        "colab_type": "text"
      },
      "source": [
        "---\n",
        "Vecchie previsioni con i dati aggiornati al 2020-03-08 18:00:00\n",
        "---\n",
        "Previsioni Contagi\n",
        "Ultimo aggiornamento del  2020-03-09 18:00:00 :  9172\n",
        "\n",
        "Previsione per domani: 11475\n",
        "\n",
        "Previsione per dopodomani: 14448\n",
        "\n",
        "Previsione fra 3 giorni: 17975\n",
        "\n",
        "Previsioni Guariti\n",
        "\n",
        "Ultimo aggiornamento del  2020-03-09 18:00:00 :  724\n",
        "\n",
        "Previsione per domani: 818\n",
        "\n",
        "Previsione per dopodomani: 1201\n",
        "\n",
        "Previsione fra 3 giorni: 2169\n",
        "\n",
        "Previsioni Decessi\n",
        "\n",
        "Ultimo aggiornamento del  2020-03-09 18:00:00 :  463\n",
        "\n",
        "Previsione per domani: 672\n",
        "\n",
        "Previsione per dopodomani: 979\n",
        "\n",
        "Previsione fra 3 giorni: 1182"
      ]
    }
  ]
}