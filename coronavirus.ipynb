{
  "nbformat": 4,
  "nbformat_minor": 0,
  "metadata": {
    "colab": {
      "name": "coronavirus.ipynb",
      "provenance": [],
      "collapsed_sections": [],
      "authorship_tag": "ABX9TyOmIY8vKd6+XEAeHncf4i74",
      "include_colab_link": true
    },
    "kernelspec": {
      "name": "python3",
      "display_name": "Python 3"
    }
  },
  "cells": [
    {
      "cell_type": "markdown",
      "metadata": {
        "id": "view-in-github",
        "colab_type": "text"
      },
      "source": [
        "<a href=\"https://colab.research.google.com/github/ItalianPepper/coronavirus_ita_svr/blob/master/coronavirus.ipynb\" target=\"_parent\"><img src=\"https://colab.research.google.com/assets/colab-badge.svg\" alt=\"Open In Colab\"/></a>"
      ]
    },
    {
      "cell_type": "code",
      "metadata": {
        "id": "pAPn2dEF62Wn",
        "colab_type": "code",
        "colab": {}
      },
      "source": [
        "import urllib\n",
        "import pandas as pd\n",
        "import matplotlib.pyplot as plt\n",
        "from sklearn.svm import SVR, LinearSVR\n",
        "import numpy as np\n",
        "import os.path\n",
        "\n",
        "# Download .csv file from official profile of Protezione Civile.\n",
        "raw_git_url = \"https://raw.githubusercontent.com/pcm-dpc/COVID-19/master/dati-andamento-nazionale/dpc-covid19-ita-andamento-nazionale.csv\"\n",
        "csv_name = \"dpc-covid19-ita-andamento-nazionale.csv\"\n",
        "\n",
        "if not os.path.exists(\"./dpc-covid19-ita-andamento-nazionale.csv\"):\n",
        "  urllib.request.urlretrieve(raw_git_url, csv_name)\n",
        "\n",
        "df_ita_covid = pd.read_csv(csv_name, sep=\",\", header=0)\n",
        "tot_casi_col = df_ita_covid[\"totale_casi\"].tolist()\n",
        "dates_col = df_ita_covid[\"data\"].tolist()\n",
        "\n",
        "print(\"Tot dataset:\", len(tot_casi_col))\n",
        "\n",
        "# Plotting time series.\n",
        "plt.plot_date(dates_col, tot_casi_col, xdate=True)\n",
        "plt.xticks(rotation=90)\n",
        "plt.show()\n",
        "\n",
        "# Subset size is (len(dataset) - look_back)\n",
        "look_back = 7\n",
        "\n",
        "x_mod = []\n",
        "y_mod = []\n",
        "\n",
        "for i in range(look_back, len(tot_casi_col)):\n",
        "  # Example look_back = 3:\n",
        "  # -> i = 3:\n",
        "  # x = {v[0], v[1], v[2]}\n",
        "  # y = {v[3]}\n",
        "  #\n",
        "  # -> i = 4:\n",
        "  # x = {v[1], v[2], v[3]}\n",
        "  # y = {v[4]}\n",
        "  # ecc...\n",
        "\n",
        "  x_sample = tot_casi_col[i-look_back:i]\n",
        "  \n",
        "  y_sample = tot_casi_col[i]\n",
        "  \n",
        "  x_mod.append(x_sample)\n",
        "  y_mod.append(y_sample)\n",
        "\n",
        "# X for next predictions is equal to last element of train set less the first\n",
        "# element of that vector. Then adding the last value of y.\n",
        "x_tmp = x_mod[len(x_mod)-1]\n",
        "y_tmp = y_mod[len(y_mod)-1]\n",
        "last_x = [x_tmp[i] for i in range(1, look_back)]\n",
        "last_x.append(y_tmp)\n",
        "\n",
        "\n",
        "# Transforming in np.array\n",
        "last_x = np.array(last_x).reshape(1, look_back)\n",
        "x = np.array(x_mod).reshape(-1, look_back)\n",
        "y = np.array(y_mod)\n",
        "\n",
        "svr = LinearSVR(epsilon=0.01)\n",
        "svr.fit(x, y)\n",
        "\n",
        "prediction = svr.predict(last_x)\n",
        "print(\"Casi prossimo giorno:\", prediction)"
      ],
      "execution_count": 0,
      "outputs": []
    }
  ]
}